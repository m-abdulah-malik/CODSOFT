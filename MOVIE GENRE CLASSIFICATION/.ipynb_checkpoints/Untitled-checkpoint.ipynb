{
 "cells": [
  {
   "cell_type": "code",
   "execution_count": 2,
   "id": "3cd03284",
   "metadata": {},
   "outputs": [],
   "source": [
    "import spacy\n",
    "import numpy as np\n",
    "import pickle\n",
    "from sklearn.svm import SVC"
   ]
  },
  {
   "cell_type": "code",
   "execution_count": 3,
   "id": "38517c69",
   "metadata": {},
   "outputs": [],
   "source": [
    "file_path = 'data/test_data.txt'\n",
    "with open(file_path, 'r', encoding=\"utf8\") as file:\n",
    "    keys = [ 'ID', 'TITLE', 'DESCRIPTION' ]\n",
    "    data = [ dict(zip(keys,line.strip().split(' ::: '))) for line in file ]"
   ]
  },
  {
   "cell_type": "code",
   "execution_count": 9,
   "id": "9fc55665",
   "metadata": {},
   "outputs": [],
   "source": [
    "plots  = [ Dict['DESCRIPTION'] for Dict in data ]\n",
    "test_plots = plots[:100]"
   ]
  },
  {
   "cell_type": "code",
   "execution_count": 13,
   "id": "2ac36962",
   "metadata": {},
   "outputs": [],
   "source": [
    "nlp = spacy.load(\"en_core_web_md\")\n",
    "test_features = np.array([ nlp(plot).vector for plot in test_plots])"
   ]
  },
  {
   "cell_type": "code",
   "execution_count": 11,
   "id": "5bc18f79",
   "metadata": {},
   "outputs": [],
   "source": [
    "filename = 'models/SVC.pickle'\n",
    "model = pickle.load( open(filename, \"rb\" ))"
   ]
  },
  {
   "cell_type": "code",
   "execution_count": 14,
   "id": "297127b8",
   "metadata": {},
   "outputs": [],
   "source": [
    "predicted_genres = model.predict(test_features)"
   ]
  },
  {
   "cell_type": "code",
   "execution_count": 15,
   "id": "4ed78245",
   "metadata": {},
   "outputs": [
    {
     "data": {
      "text/plain": [
       "100"
      ]
     },
     "execution_count": 15,
     "metadata": {},
     "output_type": "execute_result"
    }
   ],
   "source": [
    "predicted_genres[0:10]"
   ]
  },
  {
   "cell_type": "code",
   "execution_count": null,
   "id": "b18479c2",
   "metadata": {},
   "outputs": [],
   "source": []
  }
 ],
 "metadata": {
  "kernelspec": {
   "display_name": "Python 3 (ipykernel)",
   "language": "python",
   "name": "python3"
  },
  "language_info": {
   "codemirror_mode": {
    "name": "ipython",
    "version": 3
   },
   "file_extension": ".py",
   "mimetype": "text/x-python",
   "name": "python",
   "nbconvert_exporter": "python",
   "pygments_lexer": "ipython3",
   "version": "3.10.0"
  }
 },
 "nbformat": 4,
 "nbformat_minor": 5
}
